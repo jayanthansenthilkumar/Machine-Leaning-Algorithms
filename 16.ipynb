{
 "cells": [
  {
   "cell_type": "code",
   "execution_count": 1,
   "id": "f027836c",
   "metadata": {},
   "outputs": [
    {
     "name": "stdout",
     "output_type": "stream",
     "text": [
      "Learned Weights:\n",
      "[[4.77423479e+34 1.40342915e+33]\n",
      " [9.03645098e+33 2.67676386e+32]]\n"
     ]
    }
   ],
   "source": [
    "import numpy as np\n",
    "\n",
    "# Define a simple grid world environment or toy problem\n",
    "# Here, we'll consider a 3x3 grid with 2 possible actions (0: left, 1: right)\n",
    "num_states = 9\n",
    "num_actions = 2\n",
    "num_features = 2  # Number of features (e.g., position coordinates)\n",
    "\n",
    "# Initialize weights for linear function approximation\n",
    "weights = np.random.rand(num_features, num_actions)\n",
    "\n",
    "# Define reward matrix (R) and transition probabilities (P) if necessary\n",
    "R = np.array([[0, 0, 0],\n",
    "              [0, -1, 1],\n",
    "              [0, 0, 0]])\n",
    "\n",
    "# Q Learning parameters\n",
    "alpha = 0.1  # Learning rate\n",
    "gamma = 0.9  # Discount factor\n",
    "epsilon = 0.1  # Exploration-exploitation trade-off\n",
    "\n",
    "# Q Learning with linear function approximation\n",
    "num_episodes = 100\n",
    "for episode in range(num_episodes):\n",
    "    state = np.random.randint(0, num_states)  # Start in a random state\n",
    "    done = False\n",
    "    while not done:\n",
    "        # Choose action epsilon-greedily\n",
    "        if np.random.rand() < epsilon:\n",
    "            action = np.random.randint(0, num_actions)\n",
    "        else:\n",
    "            action = np.argmax(np.dot(weights.T, [state, 1]))  # Linear Q approximation\n",
    "\n",
    "        # Simulate environment (transition to next state and get reward)\n",
    "        next_state = (state + 1) % num_states  # Transition to next state (simple grid world)\n",
    "        reward = R[state // 3, state % 3]\n",
    "\n",
    "        # Update weights using Q-learning update rule\n",
    "        td_error = reward + gamma * np.max(np.dot(weights.T, [next_state, 1])) - np.dot(weights.T, [state, 1])[action]\n",
    "        weights[:, action] += alpha * td_error * np.array([state, 1])\n",
    "\n",
    "        state = next_state  # Move to next state\n",
    "\n",
    "        # Terminate episode if goal state is reached or maximum steps are exceeded\n",
    "        if state == 8:\n",
    "            done = True\n",
    "\n",
    "# Print learned weights (optional)\n",
    "print(\"Learned Weights:\")\n",
    "print(weights)\n"
   ]
  },
  {
   "cell_type": "code",
   "execution_count": null,
   "id": "84d8d938",
   "metadata": {},
   "outputs": [],
   "source": []
  }
 ],
 "metadata": {
  "kernelspec": {
   "display_name": "Python 3 (ipykernel)",
   "language": "python",
   "name": "python3"
  },
  "language_info": {
   "codemirror_mode": {
    "name": "ipython",
    "version": 3
   },
   "file_extension": ".py",
   "mimetype": "text/x-python",
   "name": "python",
   "nbconvert_exporter": "python",
   "pygments_lexer": "ipython3",
   "version": "3.11.5"
  }
 },
 "nbformat": 4,
 "nbformat_minor": 5
}
