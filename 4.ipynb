{
 "cells": [
  {
   "cell_type": "code",
   "execution_count": 4,
   "id": "deb0c8b4",
   "metadata": {},
   "outputs": [
    {
     "name": "stderr",
     "output_type": "stream",
     "text": [
      "INFO:numexpr.utils:NumExpr defaulting to 8 threads.\n"
     ]
    },
    {
     "ename": "ValueError",
     "evalue": "values must be of shape (2, 8). Got shape: (2, 4)",
     "output_type": "error",
     "traceback": [
      "\u001b[1;31m---------------------------------------------------------------------------\u001b[0m",
      "\u001b[1;31mValueError\u001b[0m                                Traceback (most recent call last)",
      "Cell \u001b[1;32mIn[4], line 13\u001b[0m\n\u001b[0;32m     10\u001b[0m cpd_M2 \u001b[38;5;241m=\u001b[39m TabularCPD(variable\u001b[38;5;241m=\u001b[39m\u001b[38;5;124m'\u001b[39m\u001b[38;5;124mM2\u001b[39m\u001b[38;5;124m'\u001b[39m, variable_card\u001b[38;5;241m=\u001b[39m\u001b[38;5;241m2\u001b[39m, values\u001b[38;5;241m=\u001b[39m[[\u001b[38;5;241m0.7\u001b[39m], [\u001b[38;5;241m0.3\u001b[39m]])\n\u001b[0;32m     11\u001b[0m cpd_M3 \u001b[38;5;241m=\u001b[39m TabularCPD(variable\u001b[38;5;241m=\u001b[39m\u001b[38;5;124m'\u001b[39m\u001b[38;5;124mM3\u001b[39m\u001b[38;5;124m'\u001b[39m, variable_card\u001b[38;5;241m=\u001b[39m\u001b[38;5;241m2\u001b[39m, values\u001b[38;5;241m=\u001b[39m[[\u001b[38;5;241m0.8\u001b[39m], [\u001b[38;5;241m0.2\u001b[39m]])\n\u001b[1;32m---> 13\u001b[0m cpd_Performance \u001b[38;5;241m=\u001b[39m TabularCPD(variable\u001b[38;5;241m=\u001b[39m\u001b[38;5;124m'\u001b[39m\u001b[38;5;124mPerformance\u001b[39m\u001b[38;5;124m'\u001b[39m, variable_card\u001b[38;5;241m=\u001b[39m\u001b[38;5;241m2\u001b[39m,\n\u001b[0;32m     14\u001b[0m                              values\u001b[38;5;241m=\u001b[39m[[\u001b[38;5;241m0.9\u001b[39m, \u001b[38;5;241m0.7\u001b[39m, \u001b[38;5;241m0.5\u001b[39m, \u001b[38;5;241m0.1\u001b[39m],\n\u001b[0;32m     15\u001b[0m                                      [\u001b[38;5;241m0.1\u001b[39m, \u001b[38;5;241m0.3\u001b[39m, \u001b[38;5;241m0.5\u001b[39m, \u001b[38;5;241m0.9\u001b[39m]],\n\u001b[0;32m     16\u001b[0m                              evidence\u001b[38;5;241m=\u001b[39m[\u001b[38;5;124m'\u001b[39m\u001b[38;5;124mM1\u001b[39m\u001b[38;5;124m'\u001b[39m, \u001b[38;5;124m'\u001b[39m\u001b[38;5;124mM2\u001b[39m\u001b[38;5;124m'\u001b[39m, \u001b[38;5;124m'\u001b[39m\u001b[38;5;124mM3\u001b[39m\u001b[38;5;124m'\u001b[39m],\n\u001b[0;32m     17\u001b[0m                              evidence_card\u001b[38;5;241m=\u001b[39m[\u001b[38;5;241m2\u001b[39m, \u001b[38;5;241m2\u001b[39m, \u001b[38;5;241m2\u001b[39m])\n\u001b[0;32m     19\u001b[0m \u001b[38;5;66;03m# Add CPDs to the model\u001b[39;00m\n\u001b[0;32m     20\u001b[0m model\u001b[38;5;241m.\u001b[39madd_cpds(cpd_M1, cpd_M2, cpd_M3, cpd_Performance)\n",
      "File \u001b[1;32mE:\\Software\\Python\\Anaconda Navigator\\Lib\\site-packages\\pgmpy\\factors\\discrete\\CPD.py:142\u001b[0m, in \u001b[0;36mTabularCPD.__init__\u001b[1;34m(self, variable, variable_card, values, evidence, evidence_card, state_names)\u001b[0m\n\u001b[0;32m    140\u001b[0m     expected_cpd_shape \u001b[38;5;241m=\u001b[39m (variable_card, np\u001b[38;5;241m.\u001b[39mprod(evidence_card))\n\u001b[0;32m    141\u001b[0m \u001b[38;5;28;01mif\u001b[39;00m values\u001b[38;5;241m.\u001b[39mshape \u001b[38;5;241m!=\u001b[39m expected_cpd_shape:\n\u001b[1;32m--> 142\u001b[0m     \u001b[38;5;28;01mraise\u001b[39;00m \u001b[38;5;167;01mValueError\u001b[39;00m(\n\u001b[0;32m    143\u001b[0m         \u001b[38;5;124mf\u001b[39m\u001b[38;5;124m\"\u001b[39m\u001b[38;5;124mvalues must be of shape \u001b[39m\u001b[38;5;132;01m{\u001b[39;00mexpected_cpd_shape\u001b[38;5;132;01m}\u001b[39;00m\u001b[38;5;124m. Got shape: \u001b[39m\u001b[38;5;132;01m{\u001b[39;00mvalues\u001b[38;5;241m.\u001b[39mshape\u001b[38;5;132;01m}\u001b[39;00m\u001b[38;5;124m\"\u001b[39m\n\u001b[0;32m    144\u001b[0m     )\n\u001b[0;32m    146\u001b[0m \u001b[38;5;28;01mif\u001b[39;00m \u001b[38;5;129;01mnot\u001b[39;00m \u001b[38;5;28misinstance\u001b[39m(state_names, \u001b[38;5;28mdict\u001b[39m):\n\u001b[0;32m    147\u001b[0m     \u001b[38;5;28;01mraise\u001b[39;00m \u001b[38;5;167;01mValueError\u001b[39;00m(\n\u001b[0;32m    148\u001b[0m         \u001b[38;5;124mf\u001b[39m\u001b[38;5;124m\"\u001b[39m\u001b[38;5;124mstate_names must be of type dict. Got \u001b[39m\u001b[38;5;132;01m{\u001b[39;00m\u001b[38;5;28mtype\u001b[39m(state_names)\u001b[38;5;132;01m}\u001b[39;00m\u001b[38;5;124m\"\u001b[39m\n\u001b[0;32m    149\u001b[0m     )\n",
      "\u001b[1;31mValueError\u001b[0m: values must be of shape (2, 8). Got shape: (2, 4)"
     ]
    }
   ],
   "source": [
    "from pgmpy.models import BayesianNetwork\n",
    "from pgmpy.factors.discrete import TabularCPD\n",
    "from pgmpy.inference import VariableElimination\n",
    "\n",
    "# Define the structure of the Bayesian Network\n",
    "model = BayesianNetwork([('M1', 'Performance'), ('M2', 'Performance'), ('M3', 'Performance')])\n",
    "\n",
    "# Define Conditional Probability Distributions (CPDs)\n",
    "cpd_M1 = TabularCPD(variable='M1', variable_card=2, values=[[0.6], [0.4]])\n",
    "cpd_M2 = TabularCPD(variable='M2', variable_card=2, values=[[0.7], [0.3]])\n",
    "cpd_M3 = TabularCPD(variable='M3', variable_card=2, values=[[0.8], [0.2]])\n",
    "\n",
    "cpd_Performance = TabularCPD(variable='Performance', variable_card=2,\n",
    "                             values=[[0.9, 0.7, 0.5, 0.1],\n",
    "                                     [0.1, 0.3, 0.5, 0.9]],\n",
    "                             evidence=['M1', 'M2', 'M3'],\n",
    "                             evidence_card=[2, 2, 2])\n",
    "\n",
    "# Add CPDs to the model\n",
    "model.add_cpds(cpd_M1, cpd_M2, cpd_M3, cpd_Performance)\n",
    "\n",
    "# Check if the model is correctly defined\n",
    "assert model.check_model()\n",
    "\n",
    "# Perform Variable Elimination for inference\n",
    "inference = VariableElimination(model)\n",
    "\n",
    "# Query: P(Performance = Good | M1 = 1, M2 = 1, M3 = 0)\n",
    "query = inference.query(variables=['Performance'], evidence={'M1': 1, 'M2': 1, 'M3': 0})\n",
    "print(query['Performance'])\n",
    "\n",
    "# Interpretation:\n",
    "# The output will provide the probability distribution over 'Performance' given M1=1, M2=1, M3=0.\n",
    "# It gives insights into the likelihood of a student performing well given their marks in related subjects."
   ]
  },
  {
   "cell_type": "code",
   "execution_count": null,
   "id": "20e22e46",
   "metadata": {},
   "outputs": [],
   "source": []
  }
 ],
 "metadata": {
  "kernelspec": {
   "display_name": "Python 3 (ipykernel)",
   "language": "python",
   "name": "python3"
  },
  "language_info": {
   "codemirror_mode": {
    "name": "ipython",
    "version": 3
   },
   "file_extension": ".py",
   "mimetype": "text/x-python",
   "name": "python",
   "nbconvert_exporter": "python",
   "pygments_lexer": "ipython3",
   "version": "3.11.5"
  }
 },
 "nbformat": 4,
 "nbformat_minor": 5
}
