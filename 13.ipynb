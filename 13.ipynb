{
 "cells": [
  {
   "cell_type": "code",
   "execution_count": 20,
   "id": "c3ba877b",
   "metadata": {},
   "outputs": [
    {
     "ename": "IndentationError",
     "evalue": "expected an indented block after 'while' statement on line 59 (2730791037.py, line 76)",
     "output_type": "error",
     "traceback": [
      "\u001b[1;36m  Cell \u001b[1;32mIn[20], line 76\u001b[1;36m\u001b[0m\n\u001b[1;33m    pg_agent.train(np.array(states), np.array(actions), discounted_rewards)\u001b[0m\n\u001b[1;37m    ^\u001b[0m\n\u001b[1;31mIndentationError\u001b[0m\u001b[1;31m:\u001b[0m expected an indented block after 'while' statement on line 59\n"
     ]
    }
   ],
   "source": [
    "import numpy as np\n",
    "import gym\n",
    "import tensorflow as tf\n",
    "from tensorflow.keras.layers import Dense, Input\n",
    "from tensorflow.keras.models import Model\n",
    "from tensorflow.keras.optimizers import Adam\n",
    "\n",
    "class PolicyGradientAgent:\n",
    "    def __init__(self, state_size, action_size, learning_rate=0.01, gamma=0.99):\n",
    "        self.state_size = state_size\n",
    "        self.action_size = action_size\n",
    "        self.learning_rate = learning_rate\n",
    "        self.gamma = gamma\n",
    "        self.build_model()\n",
    "\n",
    "    def build_model(self):\n",
    "        input_layer = Input(shape=(self.state_size,))\n",
    "        dense1 = Dense(24, activation='relu')(input_layer)\n",
    "        dense2 = Dense(24, activation='relu')(dense1)\n",
    "        output_probs = Dense(self.action_size, activation='softmax')(dense2)\n",
    "\n",
    "        # Create the model\n",
    "        self.model = Model(inputs=input_layer, outputs=output_probs)\n",
    "\n",
    "        # Define optimizer and compile model\n",
    "        optimizer = Adam(lr=self.learning_rate)\n",
    "        self.model.compile(optimizer=optimizer, loss='categorical_crossentropy')\n",
    "\n",
    "    def select_action(self, state):\n",
    "        state = np.reshape(state, [1, self.state_size])\n",
    "        probabilities = self.model.predict(state)[0]\n",
    "        action = np.random.choice(self.action_size, p=probabilities)\n",
    "        return action\n",
    "\n",
    "    def train(self, states, actions, discounted_rewards):\n",
    "        actions = tf.keras.utils.to_categorical(actions, num_classes=self.action_size)\n",
    "        self.model.train_on_batch(states, actions, sample_weight=discounted_rewards)\n",
    "\n",
    "\n",
    "\n",
    "env = gym.make('CartPole-v1')\n",
    "state_size = env.observation_space.shape[0]\n",
    "action_size = env.action_space.n\n",
    "\n",
    "# Initialize Policy Gradient agent\n",
    "pg_agent = PolicyGradientAgent(state_size, action_size)\n",
    "\n",
    "num_episodes = 1000\n",
    "episode_rewards_pg = []\n",
    "\n",
    "for episode in range(num_episodes):\n",
    "    state = env.reset()\n",
    "    states, actions, rewards = [], [], []\n",
    "    total_reward = 0\n",
    "    done = False\n",
    "    while not done:\n",
    "        action = pg_agent.select_action(state)\n",
    "        next_state, reward, done, _ = env.step(action)\n",
    "        \n",
    "        Record states, actions and rewards\n",
    "        states.append(state)\n",
    "        actions.append(action)\n",
    "        rewards.append(reward)\n",
    "        \n",
    "        total_reward += reward\n",
    "        state = next_state\n",
    "    discounted_rewards = pg_agent.discount_rewards(rewards)\n",
    "    pg_agent.train(np.array(states), np.array(actions), discounted_rewards)\n",
    "    episode_rewards_pg.append(total_reward)\n",
    "    if (episode + 1) % 100 == 0:\n",
    "        print(f\"Episode: {episode + 1}, Total Reward: {total_reward}\")\n",
    "avg_reward_pg = np.mean(episode_rewards_pg)\n",
    "print(f\"Policy Gradient Agent Average Reward: {avg_reward_pg}\")\n",
    "env.close()\n"
   ]
  },
  {
   "cell_type": "code",
   "execution_count": null,
   "id": "f2443a7e",
   "metadata": {},
   "outputs": [],
   "source": []
  }
 ],
 "metadata": {
  "kernelspec": {
   "display_name": "Python 3 (ipykernel)",
   "language": "python",
   "name": "python3"
  },
  "language_info": {
   "codemirror_mode": {
    "name": "ipython",
    "version": 3
   },
   "file_extension": ".py",
   "mimetype": "text/x-python",
   "name": "python",
   "nbconvert_exporter": "python",
   "pygments_lexer": "ipython3",
   "version": "3.11.5"
  }
 },
 "nbformat": 4,
 "nbformat_minor": 5
}
